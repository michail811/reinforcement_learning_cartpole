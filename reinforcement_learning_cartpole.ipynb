{
 "cells": [
  {
   "cell_type": "markdown",
   "metadata": {
    "id": "gdqw41SpY-on"
   },
   "source": [
    "#  PROJECT TITLE:  \n",
    "\n",
    "## \"Solving Cartpole-v0 with DQN\" \n",
    "\n",
    "\n",
    "  \n",
    "\n",
    "\n",
    "\n",
    "\n",
    "\n",
    "\n",
    " "
   ]
  },
  {
   "cell_type": "code",
   "execution_count": 1,
   "metadata": {
    "colab": {
     "base_uri": "https://localhost:8080/"
    },
    "id": "X7EQdCqK-qbs",
    "outputId": "86232a42-6193-4475-f27a-724ec2ac93e1"
   },
   "outputs": [
    {
     "name": "stdout",
     "output_type": "stream",
     "text": [
      "Requirement already satisfied: pyvirtualdisplay in /usr/local/lib/python3.7/dist-packages (3.0)\n",
      "Reading package lists... Done\n",
      "Building dependency tree       \n",
      "Reading state information... Done\n",
      "xvfb is already the newest version (2:1.19.6-1ubuntu4.10).\n",
      "The following packages were automatically installed and are no longer required:\n",
      "  cuda-command-line-tools-10-0 cuda-command-line-tools-10-1\n",
      "  cuda-command-line-tools-11-0 cuda-compiler-10-0 cuda-compiler-10-1\n",
      "  cuda-compiler-11-0 cuda-cuobjdump-10-0 cuda-cuobjdump-10-1\n",
      "  cuda-cuobjdump-11-0 cuda-cupti-10-0 cuda-cupti-10-1 cuda-cupti-11-0\n",
      "  cuda-cupti-dev-11-0 cuda-documentation-10-0 cuda-documentation-10-1\n",
      "  cuda-documentation-11-0 cuda-documentation-11-1 cuda-gdb-10-0 cuda-gdb-10-1\n",
      "  cuda-gdb-11-0 cuda-gpu-library-advisor-10-0 cuda-gpu-library-advisor-10-1\n",
      "  cuda-libraries-10-0 cuda-libraries-10-1 cuda-libraries-11-0\n",
      "  cuda-memcheck-10-0 cuda-memcheck-10-1 cuda-memcheck-11-0 cuda-nsight-10-0\n",
      "  cuda-nsight-10-1 cuda-nsight-11-0 cuda-nsight-11-1 cuda-nsight-compute-10-0\n",
      "  cuda-nsight-compute-10-1 cuda-nsight-compute-11-0 cuda-nsight-compute-11-1\n",
      "  cuda-nsight-systems-10-1 cuda-nsight-systems-11-0 cuda-nsight-systems-11-1\n",
      "  cuda-nvcc-10-0 cuda-nvcc-10-1 cuda-nvcc-11-0 cuda-nvdisasm-10-0\n",
      "  cuda-nvdisasm-10-1 cuda-nvdisasm-11-0 cuda-nvml-dev-10-0 cuda-nvml-dev-10-1\n",
      "  cuda-nvml-dev-11-0 cuda-nvprof-10-0 cuda-nvprof-10-1 cuda-nvprof-11-0\n",
      "  cuda-nvprune-10-0 cuda-nvprune-10-1 cuda-nvprune-11-0 cuda-nvtx-10-0\n",
      "  cuda-nvtx-10-1 cuda-nvtx-11-0 cuda-nvvp-10-0 cuda-nvvp-10-1 cuda-nvvp-11-0\n",
      "  cuda-nvvp-11-1 cuda-samples-10-0 cuda-samples-10-1 cuda-samples-11-0\n",
      "  cuda-samples-11-1 cuda-sanitizer-11-0 cuda-sanitizer-api-10-1\n",
      "  cuda-toolkit-10-0 cuda-toolkit-10-1 cuda-toolkit-11-0 cuda-toolkit-11-1\n",
      "  cuda-tools-10-0 cuda-tools-10-1 cuda-tools-11-0 cuda-tools-11-1\n",
      "  cuda-visual-tools-10-0 cuda-visual-tools-10-1 cuda-visual-tools-11-0\n",
      "  cuda-visual-tools-11-1 default-jre dkms freeglut3 freeglut3-dev\n",
      "  keyboard-configuration libargon2-0 libcap2 libcryptsetup12\n",
      "  libdevmapper1.02.1 libidn11 libip4tc0 libjansson4 libnvidia-cfg1-510\n",
      "  libnvidia-common-460 libnvidia-common-510 libnvidia-extra-510\n",
      "  libnvidia-fbc1-510 libnvidia-gl-510 libpam-systemd libpolkit-agent-1-0\n",
      "  libpolkit-backend-1-0 libpolkit-gobject-1-0 libxi-dev libxmu-dev\n",
      "  libxmu-headers libxnvctrl0 libxtst6 nsight-compute-2020.2.1\n",
      "  nsight-compute-2022.1.0 nsight-systems-2020.3.2 nsight-systems-2020.3.4\n",
      "  nsight-systems-2021.5.2 nvidia-dkms-510 nvidia-kernel-common-510\n",
      "  nvidia-kernel-source-510 nvidia-modprobe nvidia-settings openjdk-11-jre\n",
      "  policykit-1 policykit-1-gnome python3-xkit screen-resolution-extra systemd\n",
      "  systemd-sysv udev xserver-xorg-core-hwe-18.04 xserver-xorg-video-nvidia-510\n",
      "Use 'apt autoremove' to remove them.\n",
      "0 upgraded, 0 newly installed, 0 to remove and 39 not upgraded.\n"
     ]
    }
   ],
   "source": [
    "#https://gym.openai.com/docs/\n",
    "#https://github.com/zihangdai/pytorch_xworld/blob/master/replay_memory.py\n",
    "#https://blog.paperspace.com/getting-started-with-openai-gym/\n",
    "#https://towardsdatascience.com/deep-q-learning-tutorial-mindqn-2a4c855abffc\n",
    "#https://github.com/fanchenyou/RL-study/blob/master/Part_8.3_IQN_nn.py\n",
    "#https://medium.com/@aniket.tcdav/deep-q-learning-with-tensorflow-2-686b700c868b\n",
    "#https://blog.paperspace.com/getting-started-with-openai-gym/\n",
    "#https://towardsdatascience.com/deep-q-network-dqn-ii-b6bf911b6b2c\n",
    "#https://stackoverflow.com/questions/48001598/why-do-we-need-to-call-zero-grad-in-pytorch\n",
    "!pip install pyvirtualdisplay\n",
    "!apt install xvfb"
   ]
  },
  {
   "cell_type": "markdown",
   "metadata": {
    "id": "0Rqo7x8_h-hf"
   },
   "source": [
    "# Import librabies"
   ]
  },
  {
   "cell_type": "code",
   "execution_count": 2,
   "metadata": {
    "id": "-Hby3a9bZWCp"
   },
   "outputs": [],
   "source": [
    "import random\n",
    "import copy\n",
    "import gym\n",
    "import torch\n",
    "import torch.nn.functional as F\n",
    "from matplotlib import pyplot as plt\n",
    "from torch import nn as nn\n",
    "from torch.optim import AdamW\n",
    "from tqdm import tqdm\n",
    "from IPython import display as ipythondisplay\n",
    "import numpy as np"
   ]
  },
  {
   "cell_type": "code",
   "execution_count": 3,
   "metadata": {
    "colab": {
     "base_uri": "https://localhost:8080/"
    },
    "id": "oV6zwBdx0IUd",
    "outputId": "affb5290-9634-4703-8f2f-496d191c8f69"
   },
   "outputs": [
    {
     "data": {
      "text/plain": [
       "<pyvirtualdisplay.display.Display at 0x7fda71b15f10>"
      ]
     },
     "execution_count": 3,
     "metadata": {},
     "output_type": "execute_result"
    }
   ],
   "source": [
    "from pyvirtualdisplay import Display\n",
    "display = Display(visible=0, size=(400, 300))\n",
    "display.start()"
   ]
  },
  {
   "cell_type": "markdown",
   "metadata": {
    "id": "7-8hERsCiIWf"
   },
   "source": [
    "# show the environment"
   ]
  },
  {
   "cell_type": "code",
   "execution_count": 4,
   "metadata": {
    "colab": {
     "base_uri": "https://localhost:8080/",
     "height": 286
    },
    "id": "49j8SnkGwm-E",
    "outputId": "cc3b33f2-1e02-42ee-c01d-0b48e9e9e54d"
   },
   "outputs": [
    {
     "data": {
      "text/plain": [
       "<matplotlib.image.AxesImage at 0x7fda662a1250>"
      ]
     },
     "execution_count": 4,
     "metadata": {},
     "output_type": "execute_result"
    },
    {
     "data": {
      "image/png": "[encoded data removed]",
      "text/plain": [
       "<Figure size 432x288 with 1 Axes>"
      ]
     },
     "metadata": {
      "needs_background": "light"
     },
     "output_type": "display_data"
    }
   ],
   "source": [
    "env=gym.make('CartPole-v0')\n",
    "env.reset()\n",
    "plt.imshow(env.render(mode='rgb_array'))\n",
    "\n",
    "\n",
    "\n"
   ]
  },
  {
   "cell_type": "markdown",
   "metadata": {
    "id": "49n8ypkQiWNG"
   },
   "source": [
    "# system's characteristics"
   ]
  },
  {
   "cell_type": "code",
   "execution_count": 5,
   "metadata": {
    "colab": {
     "base_uri": "https://localhost:8080/",
     "height": 105
    },
    "id": "JEElpDm8uIpu",
    "outputId": "f40cdbb5-2724-4350-af05-d86f2af7d0e4"
   },
   "outputs": [
    {
     "data": {
      "application/vnd.google.colaboratory.intrinsic+json": {
       "type": "string"
      },
      "text/plain": [
       "'\"\\n\\n    | Num | Action                 |\\n    |-----|------------------------|\\n    | 0   | Push cart to the left  |\\n    | 1   | Push cart to the right |\\n\\n   ### Observation Space\\n    The observation is a `ndarray` with shape `(4,)` where the elements correspond to the following:\\n    | Num | Observation           | Min                  | Max                |\\n    |-----|-----------------------|----------------------|--------------------|\\n    | 0   | Cart Position         | -4.8*                 | 4.8*                |\\n    | 1   | Cart Velocity         | -Inf                 | Inf                |\\n    | 2   | Pole Angle            | ~ -0.418 rad (-24°)** | ~ 0.418 rad (24°)** |\\n    | 3   | Pole Angular Velocity | -Inf                 | Inf                |\\n\\n### Episode Termination\\n    The episode terminates of one of the following occurs:\\n    1. Pole Angle is more than ±12°\\n    2. Cart Position is more than ±2.4 (center of the cart reaches the edge of the display)\\n    3. Episode length is greater than 500 (200 for v0)\\n\\n ### Rewards\\n    Reward is 1 for every step taken, including the termination step. The threshold is 475 for v1.\\n'"
      ]
     },
     "execution_count": 5,
     "metadata": {},
     "output_type": "execute_result"
    }
   ],
   "source": [
    "\"\"\"\"\n",
    "\n",
    "    | Num | Action                 |\n",
    "    |-----|------------------------|\n",
    "    | 0   | Push cart to the left  |\n",
    "    | 1   | Push cart to the right |\n",
    "\n",
    "   ### Observation Space\n",
    "    The observation is a `ndarray` with shape `(4,)` where the elements correspond to the following:\n",
    "    | Num | Observation           | Min                  | Max                |\n",
    "    |-----|-----------------------|----------------------|--------------------|\n",
    "    | 0   | Cart Position         | -4.8*                 | 4.8*                |\n",
    "    | 1   | Cart Velocity         | -Inf                 | Inf                |\n",
    "    | 2   | Pole Angle            | ~ -0.418 rad (-24°)** | ~ 0.418 rad (24°)** |\n",
    "    | 3   | Pole Angular Velocity | -Inf                 | Inf                |\n",
    "\n",
    "### Episode Termination\n",
    "    The episode terminates of one of the following occurs:\n",
    "    1. Pole Angle is more than ±12°\n",
    "    2. Cart Position is more than ±2.4 (center of the cart reaches the edge of the display)\n",
    "    3. Episode length is greater than 500 (200 for v0)\n",
    "\n",
    " ### Rewards\n",
    "    Reward is 1 for every step taken, including the termination step. The threshold is 475 for v1.\n",
    "\"\"\""
   ]
  },
  {
   "cell_type": "code",
   "execution_count": 6,
   "metadata": {
    "colab": {
     "base_uri": "https://localhost:8080/"
    },
    "id": "zehFA9rswqi8",
    "outputId": "a63a1b5c-b32c-41fa-802c-77612fbf1bbd"
   },
   "outputs": [
    {
     "name": "stdout",
     "output_type": "stream",
     "text": [
      "obs_space Box(-3.4028234663852886e+38, 3.4028234663852886e+38, (4,), float32)\n",
      "action_space 1\n",
      "state dims= 4 num_actions= 2\n"
     ]
    }
   ],
   "source": [
    "state_dims=env.observation_space.shape[0]\n",
    "num_actions=env.action_space.n\n",
    "print('obs_space',env.observation_space)\n",
    "print('action_space',env.action_space.sample())\n",
    "print(\"state dims=\",state_dims,\"num_actions=\",num_actions)"
   ]
  },
  {
   "cell_type": "code",
   "execution_count": 6,
   "metadata": {
    "id": "X0TQPxUWg3n5"
   },
   "outputs": [],
   "source": []
  },
  {
   "cell_type": "markdown",
   "metadata": {
    "id": "VutQ4qwNiotX"
   },
   "source": [
    "\n",
    "# gym wrapper"
   ]
  },
  {
   "cell_type": "code",
   "execution_count": 7,
   "metadata": {
    "id": "LQSrPSc7wqqL"
   },
   "outputs": [],
   "source": [
    "class env_torch(gym.Wrapper):\n",
    "    \n",
    "    def __init__(self, env):\n",
    "        gym.Wrapper.__init__(self, env)\n",
    "    \n",
    "    def reset(self):\n",
    "        state = self.env.reset()\n",
    "        numpy_to_torch=torch.from_numpy(state)\n",
    "        convert_shape=torch.unsqueeze(numpy_to_torch,dim=0).float() #change the dimensions and convert it from float64 to float\n",
    "        return convert_shape\n",
    "    \n",
    "    def step(self, action):\n",
    "        action = action.item()\n",
    "        next_state, reward, done, info = self.env.step(action)\n",
    "        convert_numpy_to_torch_next_state=torch.from_numpy(next_state)\n",
    "        next_state = torch.unsqueeze(convert_numpy_to_torch_next_state,dim=0).float() #change the dimensions and convert it from float64 to float\n",
    "        \n",
    "        reward = torch.tensor(reward).view(1, -1).float()\n",
    "        done = torch.tensor(done).view(1, -1)\n",
    "        return next_state, reward, done, info"
   ]
  },
  {
   "cell_type": "code",
   "execution_count": 8,
   "metadata": {
    "colab": {
     "base_uri": "https://localhost:8080/"
    },
    "id": "MRnZhWzIwqvc",
    "outputId": "d46486c0-ec23-4492-9322-4de0536f740c"
   },
   "outputs": [
    {
     "name": "stdout",
     "output_type": "stream",
     "text": [
      "Sample state: tensor([[-0.0261, -0.0211, -0.0006,  0.0032]])\n",
      "Next state: tensor([[-0.0265, -0.2162, -0.0005,  0.2957]]) Reward: tensor([[1.]]) Done: tensor([[False]])\n"
     ]
    }
   ],
   "source": [
    "env = env_torch(env)\n",
    "state = env.reset()\n",
    "action = torch.tensor(0)\n",
    "next_state, reward, done, _ = env.step(action)\n",
    "print(\"Sample state:\", state)\n",
    "print(\"Next state:\",next_state, \"Reward:\", reward, \"Done:\", done)"
   ]
  },
  {
   "cell_type": "markdown",
   "metadata": {
    "id": "a2p39h_di_9H"
   },
   "source": [
    "# Policy network"
   ]
  },
  {
   "cell_type": "code",
   "execution_count": 9,
   "metadata": {
    "id": "1mTEvIbvwqzr"
   },
   "outputs": [],
   "source": [
    "q_network=nn.Sequential(              # Initialize network Q with weights θ\n",
    "    \n",
    "    nn.Linear(state_dims, 128),\n",
    "    nn.ReLU(),\n",
    "    nn.Linear(128,64),\n",
    "    nn.ReLU(),\n",
    "    nn.Linear(64,num_actions)\n",
    ")"
   ]
  },
  {
   "cell_type": "markdown",
   "metadata": {
    "id": "q2qck726jD0u"
   },
   "source": [
    "# Target network"
   ]
  },
  {
   "cell_type": "code",
   "execution_count": 10,
   "metadata": {
    "id": "eOfQz0TV6GpX"
   },
   "outputs": [],
   "source": [
    "target_q_network=copy.deepcopy(q_network).eval()  # Initialize target_network with weights= θ"
   ]
  },
  {
   "cell_type": "markdown",
   "metadata": {
    "id": "J1NONvAKjI3W"
   },
   "source": [
    "# ε-greedy policy"
   ]
  },
  {
   "cell_type": "code",
   "execution_count": 11,
   "metadata": {
    "id": "ScjZOKim6JGe"
   },
   "outputs": [],
   "source": [
    "def policy(state, epsilon):                        # epsilon greedy policy\n",
    "    if torch.rand(1) < epsilon:                       #exploration\n",
    "        return torch.randint(num_actions, (1, 1))\n",
    "    else:\n",
    "        av = q_network(state).detach()    \t          #exploitation\n",
    "        #print(av)\n",
    "        #print(torch.argmax(av, dim=-1, keepdim=True))\n",
    "        return torch.argmax(av, dim=-1, keepdim=True)"
   ]
  },
  {
   "cell_type": "markdown",
   "metadata": {
    "id": "CQ9r_p4vjQpu"
   },
   "source": [
    "# Replay memory"
   ]
  },
  {
   "cell_type": "code",
   "execution_count": 12,
   "metadata": {
    "id": "3KmcIn2V6JLG"
   },
   "outputs": [],
   "source": [
    "class ReplayMemory:\n",
    "    \n",
    "    def __init__(self, capacity=1000000):\n",
    "        self.capacity = capacity\n",
    "        self.memory = []  # Initialize memory to Save the transitions\n",
    "        self.position = 0   # Initialize the position of the saved transitions.\n",
    "\n",
    "    def push(self, transition):\n",
    "        \"\"\"Saves a transition.\"\"\"\n",
    "        if self.position >= len(self.memory):\n",
    "            self.memory.append(transition)\n",
    "        else:\n",
    "            self.memory[self.position] = transition\n",
    "        self.position = (self.position + 1) % self.capacity\n",
    "\n",
    "\n",
    "\n",
    "    def sample(self, batch_size):\n",
    "\n",
    "        assert self.can_get_sample(batch_size) # check if it true or false\n",
    "\n",
    "        batch = random.sample(self.memory, batch_size) # randomly pick elements from the memory\n",
    "        batch = zip(*batch)     # unpack from the list all the transitions and take each element and group them together(s,a,r,s')\n",
    "        return [torch.cat(items) for items in batch]\n",
    "\n",
    "    def can_get_sample(self, batch_size):\n",
    "        return len(self.memory) >= batch_size \n",
    "\n",
    "    def __len__(self):\n",
    "        return len(self.memory)\n"
   ]
  },
  {
   "cell_type": "markdown",
   "metadata": {
    "id": "NpRdfLfpjT73"
   },
   "source": [
    "# DQN"
   ]
  },
  {
   "cell_type": "code",
   "execution_count": 13,
   "metadata": {
    "id": "VVayoJKl6JN2"
   },
   "outputs": [],
   "source": [
    "def dqn(q_network, policy, episodes, alpha=0.0001, batch_size=32, gamma=0.99, epsilon=0.2):\n",
    "    results={'MSE Loss': [], 'Returns': []}                                     # save MSE LOSS and RETURNS\n",
    "    optim=AdamW(q_network.parameters(), lr=alpha)  # Set optimizer\n",
    "    \n",
    "       \n",
    "    memory= ReplayMemory()                           \n",
    "    \n",
    "             \n",
    "    \n",
    "    for episode in tqdm(range(1, episodes +1)):\n",
    "        state=env.reset()                                                       # Initialize the agent\n",
    "        done=False\n",
    "        ep_return=0\n",
    "        \n",
    "        while not done:                                                         #While not converged do\n",
    "            action=policy(state,epsilon)                                        #choose an action a from state s using policy epsilon greedy\n",
    "            next_state, reward, done, _ =env.step(action)                       #Agent takes action a, observe s',r\n",
    "            memory.push([state,action, reward,done,next_state])                 #Store transition (s,a,,r,s',done) in the Buffer\n",
    "            \n",
    "            if memory.can_get_sample(batch_size):                               # if we have enough expepiences in buffer then\n",
    "                state_b,action_b,reward_b, done_b, next_state_b=memory.sample(batch_size)   # Sample a random minibatch \n",
    "                qsa_b=q_network(state_b).gather(1, action_b)                    # Pass batch of states through the policy network to calculate  batch_Q(s,a)\n",
    "\n",
    "                next_qsa_b=target_q_network(next_state_b)                       # Pass batch of next_states through the target netowrk to calculate Q'(s',a)\n",
    "                next_qsa_b=torch.max(next_qsa_b, dim=-1, keepdim=True)[0]       # Calculate the max of batch_Q'(s',a)\n",
    "                #print(done_b)\n",
    "                target_b=reward_b + ~(done_b) *gamma*next_qsa_b                 # Calculate the TD_target= reward_batch +gamma*Q'(s',a)\n",
    "                loss= F.mse_loss(qsa_b, target_b)                               # calculate the Loss function of (Q(s,a),TD_target)\n",
    "                \n",
    "                q_network.zero_grad()             \n",
    "                loss.backward()\n",
    "                optim.step()       # update the parameters          \n",
    "                \n",
    "                results['MSE Loss'].append(loss)\n",
    "                \n",
    "            state= next_state\n",
    "            ep_return+=reward.item()\n",
    "            \n",
    "        results['Returns'].append(ep_return)\n",
    "        \n",
    "        if episode % 10 == 0:                                                   #update the values of the target network every 10 episodes of the learning\n",
    "            target_q_network.load_state_dict(q_network.state_dict()) # load the theta values of the policy network(learning) the to target network\n",
    "    \n",
    "    return results"
   ]
  },
  {
   "cell_type": "markdown",
   "metadata": {
    "id": "kb3N2zVAjc5g"
   },
   "source": [
    "# run DQN"
   ]
  },
  {
   "cell_type": "code",
   "execution_count": 14,
   "metadata": {
    "colab": {
     "base_uri": "https://localhost:8080/"
    },
    "id": "bZBNKphU6JQW",
    "outputId": "cae937d6-aaa3-4f62-d807-ed28b003366b"
   },
   "outputs": [
    {
     "name": "stderr",
     "output_type": "stream",
     "text": [
      "100%|██████████| 500/500 [01:16<00:00,  6.55it/s]\n"
     ]
    }
   ],
   "source": [
    "results=dqn(q_network,policy,500)"
   ]
  },
  {
   "cell_type": "code",
   "execution_count": 15,
   "metadata": {
    "colab": {
     "base_uri": "https://localhost:8080/"
    },
    "id": "YJrUR5BC87Ax",
    "outputId": "52c26436-9014-4139-e085-9a74dc6d5344"
   },
   "outputs": [
    {
     "name": "stdout",
     "output_type": "stream",
     "text": [
      "37748\n",
      "(1, 37748)\n",
      "(1, 500)\n"
     ]
    }
   ],
   "source": [
    "print(len(results[\"MSE Loss\"]))\n",
    "\n",
    "mse_loss=torch.tensor([results[\"MSE Loss\"]],requires_grad=True)\n",
    "mse_loss=mse_loss.detach().numpy()\n",
    "print(mse_loss.shape)\n",
    "returns=torch.tensor([results[\"Returns\"]],requires_grad=True)\n",
    "returns=returns.detach().numpy()\n",
    "print(returns.shape)"
   ]
  },
  {
   "cell_type": "markdown",
   "metadata": {
    "id": "OPZji8OTjipg"
   },
   "source": [
    "# plot mse_loss"
   ]
  },
  {
   "cell_type": "code",
   "execution_count": 16,
   "metadata": {
    "colab": {
     "base_uri": "https://localhost:8080/",
     "height": 282
    },
    "id": "3SVHp49l-k0Y",
    "outputId": "dc24f198-9274-4cf2-ac9e-e1522475aa70"
   },
   "outputs": [
    {
     "name": "stdout",
     "output_type": "stream",
     "text": [
      "(37748, 1)\n"
     ]
    },
    {
     "data": {
      "image/png": "[encoded data removed]",
      "text/plain": [
       "<Figure size 432x288 with 1 Axes>"
      ]
     },
     "metadata": {
      "needs_background": "light"
     },
     "output_type": "display_data"
    }
   ],
   "source": [
    "i=np.arange(mse_loss.shape[1])\n",
    "mse_loss=mse_loss.reshape(mse_loss.shape[1],mse_loss.shape[0])\n",
    "\n",
    "k=np.arange(returns.shape[1])\n",
    "returns=returns.reshape(returns.shape[1],returns.shape[0])\n",
    "\n",
    "\n",
    "print(mse_loss.shape)\n",
    "plt.plot(i,mse_loss)\n",
    "plt.show()\n"
   ]
  },
  {
   "cell_type": "markdown",
   "metadata": {
    "id": "v5sKCUjQjlvP"
   },
   "source": [
    "# plot returns"
   ]
  },
  {
   "cell_type": "code",
   "execution_count": 17,
   "metadata": {
    "colab": {
     "base_uri": "https://localhost:8080/",
     "height": 265
    },
    "id": "Gdx8h9-RE7VM",
    "outputId": "d61c41c7-c248-496c-b36d-aab9e48603fc"
   },
   "outputs": [
    {
     "data": {
      "image/png": "[encoded data removed]",
      "text/plain": [
       "<Figure size 432x288 with 1 Axes>"
      ]
     },
     "metadata": {
      "needs_background": "light"
     },
     "output_type": "display_data"
    }
   ],
   "source": [
    "plt.plot(k,returns)\n",
    "plt.show()"
   ]
  },
  {
   "cell_type": "markdown",
   "metadata": {
    "id": "mYE0JGq_jpyg"
   },
   "source": [
    "# run the system with random actions"
   ]
  },
  {
   "cell_type": "code",
   "execution_count": 18,
   "metadata": {
    "colab": {
     "base_uri": "https://localhost:8080/",
     "height": 328
    },
    "id": "6gTc28YPq30e",
    "outputId": "418012ef-e30e-4016-e5f4-c9468616e704"
   },
   "outputs": [
    {
     "data": {
      "image/png": "[encoded data removed]",
      "text/plain": [
       "<Figure size 576x576 with 1 Axes>"
      ]
     },
     "metadata": {
      "needs_background": "light"
     },
     "output_type": "display_data"
    }
   ],
   "source": [
    "plt.figure(figsize=(8, 8))\n",
    "env_r=gym.make('CartPole-v0')\n",
    "for episode in range(3):\n",
    "  state_r = env_r.reset()\n",
    "  done_r = False\n",
    "  img_r = plt.imshow(env_r.render(mode='rgb_array'))\n",
    "  while not done_r:\n",
    "    action_random = env_r.action_space.sample()\n",
    "    next_state_r, _, done_r, _ = env_r.step(action_random)\n",
    "    img_r.set_data(env_r.render(mode='rgb_array'))\n",
    "    plt.axis('off')\n",
    "    ipythondisplay.display(plt.gcf())\n",
    "    ipythondisplay.clear_output(wait=True)\n",
    "    state_r = next_state_r"
   ]
  },
  {
   "cell_type": "markdown",
   "metadata": {
    "id": "R7mRlcu-jw-g"
   },
   "source": [
    "# test the system with policy"
   ]
  },
  {
   "cell_type": "code",
   "execution_count": 19,
   "metadata": {
    "colab": {
     "base_uri": "https://localhost:8080/",
     "height": 328
    },
    "id": "Mk-awd9XFRea",
    "outputId": "11cb088f-b7ba-4a07-f87a-1cae69fb2eef"
   },
   "outputs": [
    {
     "data": {
      "image/png": "[encoded data removed]",
      "text/plain": [
       "<Figure size 576x576 with 1 Axes>"
      ]
     },
     "metadata": {
      "needs_background": "light"
     },
     "output_type": "display_data"
    }
   ],
   "source": [
    "plt.figure(figsize=(8, 8))\n",
    "for episode in range(2):\n",
    "  print(episode)\n",
    "  state = env.reset()\n",
    "  done = False\n",
    "  img = plt.imshow(env.render(mode='rgb_array'))\n",
    "  while not done:\n",
    "    action = policy(state,0.2)\n",
    "    next_state, _, done, _ = env.step(action)\n",
    "    img.set_data(env.render(mode='rgb_array'))\n",
    "    plt.axis('off')\n",
    "    ipythondisplay.display(plt.gcf())\n",
    "    ipythondisplay.clear_output(wait=True)\n",
    "    state = next_state\n",
    "\n"
   ]
  }
 ],
 "metadata": {
  "colab": {
   "collapsed_sections": [],
   "name": "RL_CARTPOLE.ipynb",
   "provenance": []
  },
  "kernelspec": {
   "display_name": "Python 3 (ipykernel)",
   "language": "python",
   "name": "python3"
  },
  "language_info": {
   "codemirror_mode": {
    "name": "ipython",
    "version": 3
   },
   "file_extension": ".py",
   "mimetype": "text/x-python",
   "name": "python",
   "nbconvert_exporter": "python",
   "pygments_lexer": "ipython3",
   "version": "3.8.5"
  }
 },
 "nbformat": 4,
 "nbformat_minor": 1
}
